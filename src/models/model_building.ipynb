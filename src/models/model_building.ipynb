{
 "cells": [
  {
   "cell_type": "code",
   "execution_count": 1,
   "id": "e1420e73-45fc-427f-b0b8-fc015e3edaae",
   "metadata": {},
   "outputs": [],
   "source": [
    "import os\n",
    "import sys\n",
    "import docopt\n",
    "import IPython\n",
    "import ipywidgets as widgets\n",
    "import matplotlib.pyplot as plt\n",
    "import mglearn\n",
    "import numpy as np\n",
    "import pandas as pd\n",
    "\n",
    "%matplotlib inline\n",
    "pd.set_option(\"display.max_colwidth\", 200)"
   ]
  },
  {
   "cell_type": "code",
   "execution_count": 2,
   "id": "781508ab-ec8e-4fd5-903d-021cdf6473ac",
   "metadata": {},
   "outputs": [],
   "source": [
    "from IPython.display import HTML, display\n",
    "from ipywidgets import interact, interactive\n",
    "\n",
    "# from plotting_functions import *\n",
    "from sklearn.model_selection import cross_val_score, cross_validate, train_test_split\n",
    "from sklearn.pipeline import Pipeline, make_pipeline\n",
    "from sklearn.preprocessing import OneHotEncoder, StandardScaler\n",
    "from sklearn.compose import ColumnTransformer, make_column_transformer\n",
    "from sklearn.model_selection import (\n",
    "    GridSearchCV,\n",
    "    RandomizedSearchCV,\n",
    "    cross_val_score,\n",
    "    cross_validate,\n",
    "    train_test_split,\n",
    ")\n",
    "from sklearn.linear_model import LogisticRegression\n",
    "\n",
    "# from utils import *"
   ]
  },
  {
   "cell_type": "code",
   "execution_count": 3,
   "id": "7f0d81a7-14bc-41c3-b94c-4f25e8a4b81a",
   "metadata": {},
   "outputs": [],
   "source": [
    "import pickle"
   ]
  },
  {
   "cell_type": "code",
   "execution_count": 4,
   "id": "78169ef6-7192-4861-8358-da1f16105334",
   "metadata": {},
   "outputs": [],
   "source": [
    "df = pd.read_csv(\n",
    "    \"../../data/raw/abalone.data\",\n",
    "    names=[\n",
    "        \"Sex\",\n",
    "        \"Length\",\n",
    "        \"Diameter\",\n",
    "        \"Height\",\n",
    "        \"Whole weight\",\n",
    "        \"Shucked weight\",\n",
    "        \"Viscera weight\",\n",
    "        \"Shell weight\",\n",
    "        \"Rings\",\n",
    "    ],\n",
    "    header=0,\n",
    ")\n",
    "\n",
    "# Add a classification target columns. If rings > 11, then classified as old\n",
    "df[\"Is old\"] = np.where(df[\"Rings\"] > 11, \"old\", \"young\")\n",
    "df.head()\n",
    "train_df, test_df = train_test_split(df, test_size=0.2, random_state=123)\n",
    "X_train = train_df.drop(columns=[\"Is old\"])\n",
    "X_test = test_df.drop(columns=[\"Is old\"])\n",
    "y_train = train_df[\"Is old\"]\n",
    "y_test = test_df[\"Is old\"]\n",
    "y_test = y_test.map({\"young\": 1, \"old\": 0}).astype(int)\n",
    "y_train = y_train.map({\"young\": 1, \"old\": 0}).astype(int)"
   ]
  },
  {
   "cell_type": "code",
   "execution_count": 5,
   "id": "037b30b7-935b-4a7d-a4f0-70c76556c277",
   "metadata": {},
   "outputs": [
    {
     "data": {
      "text/plain": [
       "2812    1\n",
       "1344    1\n",
       "533     1\n",
       "866     1\n",
       "3939    0\n",
       "       ..\n",
       "1886    1\n",
       "3724    1\n",
       "1203    0\n",
       "3889    0\n",
       "2597    1\n",
       "Name: Is old, Length: 836, dtype: int32"
      ]
     },
     "execution_count": 5,
     "metadata": {},
     "output_type": "execute_result"
    }
   ],
   "source": [
    "y_test"
   ]
  },
  {
   "cell_type": "code",
   "execution_count": 6,
   "id": "f2a561fe-89bb-4ec7-bf6c-4798f828fbb1",
   "metadata": {},
   "outputs": [],
   "source": [
    "# create column transformer for analysis pipeline\n",
    "\n",
    "categorical_feature = [\"Sex\"]\n",
    "numerical_features = [\n",
    "    \"Length\",\n",
    "    \"Diameter\",\n",
    "    \"Height\",\n",
    "    \"Whole weight\",\n",
    "    \"Shucked weight\",\n",
    "    \"Viscera weight\",\n",
    "    \"Shell weight\",\n",
    "]\n",
    "target = \"Is old\"\n",
    "drop_feature = [\"Rings\"]\n",
    "\n",
    "preprocessor = make_column_transformer(\n",
    "    (StandardScaler(), numerical_features),\n",
    "    (OneHotEncoder(handle_unknown=\"ignore\", sparse=False), categorical_feature),\n",
    "    (\"drop\", drop_feature),\n",
    ")"
   ]
  },
  {
   "cell_type": "code",
   "execution_count": 7,
   "id": "2793b850-f09a-4420-a72c-8242201827cc",
   "metadata": {},
   "outputs": [
    {
     "name": "stderr",
     "output_type": "stream",
     "text": [
      "C:\\Users\\Maoli\\miniconda3\\envs\\571\\lib\\site-packages\\sklearn\\model_selection\\_search.py:292: UserWarning: The total space of parameters 9 is smaller than n_iter=10. Running 9 iterations. For exhaustive searches, use GridSearchCV.\n",
      "  warnings.warn(\n"
     ]
    },
    {
     "data": {
      "text/plain": [
       "RandomizedSearchCV(cv=5,\n",
       "                   estimator=Pipeline(steps=[('columntransformer',\n",
       "                                              ColumnTransformer(transformers=[('standardscaler',\n",
       "                                                                               StandardScaler(),\n",
       "                                                                               ['Length',\n",
       "                                                                                'Diameter',\n",
       "                                                                                'Height',\n",
       "                                                                                'Whole '\n",
       "                                                                                'weight',\n",
       "                                                                                'Shucked '\n",
       "                                                                                'weight',\n",
       "                                                                                'Viscera '\n",
       "                                                                                'weight',\n",
       "                                                                                'Shell '\n",
       "                                                                                'weight']),\n",
       "                                                                              ('onehotencoder',\n",
       "                                                                               OneHotEncoder(handle_unknown='ignore',\n",
       "                                                                                             sparse=False),\n",
       "                                                                               ['Sex']),\n",
       "                                                                              ('drop',\n",
       "                                                                               'drop',\n",
       "                                                                               ['Rings'])])),\n",
       "                                             ('logisticregression',\n",
       "                                              LogisticRegression(max_iter=2000))]),\n",
       "                   n_jobs=-1,\n",
       "                   param_distributions={'logisticregression__C': array([1.e-03, 1.e-02, 1.e-01, 1.e+00, 1.e+01, 1.e+02, 1.e+03, 1.e+04,\n",
       "       1.e+05])},\n",
       "                   random_state=123)"
      ]
     },
     "execution_count": 7,
     "metadata": {},
     "output_type": "execute_result"
    }
   ],
   "source": [
    "# fit the model by using random search CV\n",
    "\n",
    "lr = LogisticRegression(max_iter=2000)\n",
    "pipe = make_pipeline(preprocessor, lr)\n",
    "param_grid = {\"logisticregression__C\": 10.0 ** np.arange(-3, 6)}\n",
    "\n",
    "random_search = RandomizedSearchCV(\n",
    "    pipe, param_distributions=param_grid, n_jobs=-1, n_iter=10, cv=5, random_state=123\n",
    ")\n",
    "random_search.fit(pd.DataFrame(X_train), y_train)"
   ]
  },
  {
   "cell_type": "code",
   "execution_count": 8,
   "id": "d7da14a7-3425-4056-8934-401596289e49",
   "metadata": {},
   "outputs": [
    {
     "data": {
      "text/html": [
       "<div>\n",
       "<style scoped>\n",
       "    .dataframe tbody tr th:only-of-type {\n",
       "        vertical-align: middle;\n",
       "    }\n",
       "\n",
       "    .dataframe tbody tr th {\n",
       "        vertical-align: top;\n",
       "    }\n",
       "\n",
       "    .dataframe thead th {\n",
       "        text-align: right;\n",
       "    }\n",
       "</style>\n",
       "<table border=\"1\" class=\"dataframe\">\n",
       "  <thead>\n",
       "    <tr style=\"text-align: right;\">\n",
       "      <th></th>\n",
       "      <th>mean_test_score</th>\n",
       "      <th>param_logisticregression__C</th>\n",
       "      <th>mean_fit_time</th>\n",
       "    </tr>\n",
       "    <tr>\n",
       "      <th>rank_test_score</th>\n",
       "      <th></th>\n",
       "      <th></th>\n",
       "      <th></th>\n",
       "    </tr>\n",
       "  </thead>\n",
       "  <tbody>\n",
       "    <tr>\n",
       "      <th>1</th>\n",
       "      <td>0.826403</td>\n",
       "      <td>100.0</td>\n",
       "      <td>0.038399</td>\n",
       "    </tr>\n",
       "    <tr>\n",
       "      <th>1</th>\n",
       "      <td>0.826403</td>\n",
       "      <td>1000.0</td>\n",
       "      <td>0.033600</td>\n",
       "    </tr>\n",
       "    <tr>\n",
       "      <th>1</th>\n",
       "      <td>0.826403</td>\n",
       "      <td>10000.0</td>\n",
       "      <td>0.032799</td>\n",
       "    </tr>\n",
       "    <tr>\n",
       "      <th>1</th>\n",
       "      <td>0.826403</td>\n",
       "      <td>100000.0</td>\n",
       "      <td>0.026398</td>\n",
       "    </tr>\n",
       "    <tr>\n",
       "      <th>5</th>\n",
       "      <td>0.826104</td>\n",
       "      <td>10.0</td>\n",
       "      <td>0.047401</td>\n",
       "    </tr>\n",
       "    <tr>\n",
       "      <th>6</th>\n",
       "      <td>0.822811</td>\n",
       "      <td>1.0</td>\n",
       "      <td>0.043800</td>\n",
       "    </tr>\n",
       "    <tr>\n",
       "      <th>7</th>\n",
       "      <td>0.820115</td>\n",
       "      <td>0.1</td>\n",
       "      <td>0.035802</td>\n",
       "    </tr>\n",
       "    <tr>\n",
       "      <th>8</th>\n",
       "      <td>0.798865</td>\n",
       "      <td>0.01</td>\n",
       "      <td>0.054801</td>\n",
       "    </tr>\n",
       "    <tr>\n",
       "      <th>9</th>\n",
       "      <td>0.775518</td>\n",
       "      <td>0.001</td>\n",
       "      <td>0.072002</td>\n",
       "    </tr>\n",
       "  </tbody>\n",
       "</table>\n",
       "</div>"
      ],
      "text/plain": [
       "                 mean_test_score param_logisticregression__C  mean_fit_time\n",
       "rank_test_score                                                            \n",
       "1                       0.826403                       100.0       0.038399\n",
       "1                       0.826403                      1000.0       0.033600\n",
       "1                       0.826403                     10000.0       0.032799\n",
       "1                       0.826403                    100000.0       0.026398\n",
       "5                       0.826104                        10.0       0.047401\n",
       "6                       0.822811                         1.0       0.043800\n",
       "7                       0.820115                         0.1       0.035802\n",
       "8                       0.798865                        0.01       0.054801\n",
       "9                       0.775518                       0.001       0.072002"
      ]
     },
     "execution_count": 8,
     "metadata": {},
     "output_type": "execute_result"
    }
   ],
   "source": [
    "# view the training results in a data frame\n",
    "\n",
    "train_results = (\n",
    "    pd.DataFrame(random_search.cv_results_)[\n",
    "        [\n",
    "            \"mean_test_score\",\n",
    "            \"param_logisticregression__C\",\n",
    "            \"mean_fit_time\",\n",
    "            \"rank_test_score\",\n",
    "        ]\n",
    "    ]\n",
    "    .set_index(\"rank_test_score\")\n",
    "    .sort_index()\n",
    ")\n",
    "train_results"
   ]
  },
  {
   "cell_type": "code",
   "execution_count": 9,
   "id": "932476fc-12d7-472c-b91b-0160ae99a4f1",
   "metadata": {},
   "outputs": [
    {
     "data": {
      "image/png": "[encoded data removed]",
      "text/plain": [
       "<Figure size 432x288 with 1 Axes>"
      ]
     },
     "metadata": {
      "needs_background": "light"
     },
     "output_type": "display_data"
    }
   ],
   "source": [
    "# train_results.plot(kind=\"line\", y=\"mean_test_score\")\n",
    "from matplotlib import pyplot\n",
    "\n",
    "train_results.plot(x=\"param_logisticregression__C\", y=\"mean_test_score\")\n",
    "\n",
    "plt.xscale(\"log\")\n",
    "plt.savefig(\"../../models/cv_result.png\")"
   ]
  },
  {
   "cell_type": "code",
   "execution_count": 10,
   "id": "d0801f74-8a26-4e51-9f8f-d06862a88b27",
   "metadata": {},
   "outputs": [
    {
     "data": {
      "text/plain": [
       "0.8433014354066986"
      ]
     },
     "execution_count": 10,
     "metadata": {},
     "output_type": "execute_result"
    }
   ],
   "source": [
    "# pick the final model and predict test data\n",
    "\n",
    "best_c = train_results.iloc[1, 0]\n",
    "\n",
    "pipe_best = make_pipeline(preprocessor, LogisticRegression(C=best_c, max_iter=2000))\n",
    "pipe_best.fit(X_train, y_train)\n",
    "\n",
    "pipe_best.score(X_test, y_test)"
   ]
  },
  {
   "cell_type": "code",
   "execution_count": 11,
   "id": "4bb8be65-b488-4487-986d-5a0b10c3b8f6",
   "metadata": {},
   "outputs": [
    {
     "data": {
      "text/plain": [
       "Pipeline(steps=[('columntransformer',\n",
       "                 ColumnTransformer(transformers=[('standardscaler',\n",
       "                                                  StandardScaler(),\n",
       "                                                  ['Length', 'Diameter',\n",
       "                                                   'Height', 'Whole weight',\n",
       "                                                   'Shucked weight',\n",
       "                                                   'Viscera weight',\n",
       "                                                   'Shell weight']),\n",
       "                                                 ('onehotencoder',\n",
       "                                                  OneHotEncoder(handle_unknown='ignore',\n",
       "                                                                sparse=False),\n",
       "                                                  ['Sex']),\n",
       "                                                 ('drop', 'drop', ['Rings'])])),\n",
       "                ('logisticregression',\n",
       "                 LogisticRegression(C=100.0, max_iter=2000))])"
      ]
     },
     "execution_count": 11,
     "metadata": {},
     "output_type": "execute_result"
    }
   ],
   "source": [
    "random_search.best_estimator_"
   ]
  },
  {
   "cell_type": "code",
   "execution_count": 12,
   "id": "fbf8316b-ef03-45cb-bcd9-ba4237cd7aaa",
   "metadata": {},
   "outputs": [
    {
     "data": {
      "text/html": [
       "<div>\n",
       "<style scoped>\n",
       "    .dataframe tbody tr th:only-of-type {\n",
       "        vertical-align: middle;\n",
       "    }\n",
       "\n",
       "    .dataframe tbody tr th {\n",
       "        vertical-align: top;\n",
       "    }\n",
       "\n",
       "    .dataframe thead th {\n",
       "        text-align: right;\n",
       "    }\n",
       "</style>\n",
       "<table border=\"1\" class=\"dataframe\">\n",
       "  <thead>\n",
       "    <tr style=\"text-align: right;\">\n",
       "      <th></th>\n",
       "      <th>Coefficient</th>\n",
       "    </tr>\n",
       "  </thead>\n",
       "  <tbody>\n",
       "    <tr>\n",
       "      <th>standardscaler__Shucked weight</th>\n",
       "      <td>3.405154</td>\n",
       "    </tr>\n",
       "    <tr>\n",
       "      <th>onehotencoder__Sex_I</th>\n",
       "      <td>0.576915</td>\n",
       "    </tr>\n",
       "    <tr>\n",
       "      <th>standardscaler__Viscera weight</th>\n",
       "      <td>0.521920</td>\n",
       "    </tr>\n",
       "    <tr>\n",
       "      <th>standardscaler__Length</th>\n",
       "      <td>0.471001</td>\n",
       "    </tr>\n",
       "    <tr>\n",
       "      <th>standardscaler__Height</th>\n",
       "      <td>-0.260923</td>\n",
       "    </tr>\n",
       "    <tr>\n",
       "      <th>onehotencoder__Sex_M</th>\n",
       "      <td>-0.287910</td>\n",
       "    </tr>\n",
       "    <tr>\n",
       "      <th>onehotencoder__Sex_F</th>\n",
       "      <td>-0.291111</td>\n",
       "    </tr>\n",
       "    <tr>\n",
       "      <th>standardscaler__Diameter</th>\n",
       "      <td>-0.483618</td>\n",
       "    </tr>\n",
       "    <tr>\n",
       "      <th>standardscaler__Shell weight</th>\n",
       "      <td>-1.438815</td>\n",
       "    </tr>\n",
       "    <tr>\n",
       "      <th>standardscaler__Whole weight</th>\n",
       "      <td>-2.920781</td>\n",
       "    </tr>\n",
       "  </tbody>\n",
       "</table>\n",
       "</div>"
      ],
      "text/plain": [
       "                                Coefficient\n",
       "standardscaler__Shucked weight     3.405154\n",
       "onehotencoder__Sex_I               0.576915\n",
       "standardscaler__Viscera weight     0.521920\n",
       "standardscaler__Length             0.471001\n",
       "standardscaler__Height            -0.260923\n",
       "onehotencoder__Sex_M              -0.287910\n",
       "onehotencoder__Sex_F              -0.291111\n",
       "standardscaler__Diameter          -0.483618\n",
       "standardscaler__Shell weight      -1.438815\n",
       "standardscaler__Whole weight      -2.920781"
      ]
     },
     "execution_count": 12,
     "metadata": {},
     "output_type": "execute_result"
    }
   ],
   "source": [
    "feature_names = np.array(pipe_best[:-1].get_feature_names_out())\n",
    "coeffs = pipe_best.named_steps[\"logisticregression\"].coef_.flatten()\n",
    "coeff_df = pd.DataFrame(coeffs, index=feature_names, columns=[\"Coefficient\"])\n",
    "coeff_df_sorted = coeff_df.sort_values(by=\"Coefficient\", ascending=False)\n",
    "coeff_df_sorted"
   ]
  },
  {
   "cell_type": "code",
   "execution_count": null,
   "id": "ed665628-c2cb-4ab7-a560-c73206ba6a29",
   "metadata": {},
   "outputs": [],
   "source": []
  },
  {
   "cell_type": "code",
   "execution_count": 13,
   "id": "563a6c5f-f065-4eb3-a80d-3a880cd6968a",
   "metadata": {},
   "outputs": [
    {
     "data": {
      "text/plain": [
       "array([0, 1])"
      ]
     },
     "execution_count": 13,
     "metadata": {},
     "output_type": "execute_result"
    }
   ],
   "source": [
    "pipe_best.classes_"
   ]
  },
  {
   "cell_type": "code",
   "execution_count": 30,
   "id": "d95fbcf2-21fa-416f-b0cd-6d7611bb58d1",
   "metadata": {},
   "outputs": [],
   "source": [
    "from mglearn.plot_2d_separator import (plot_2d_separator, plot_2d_classification,\n",
    "                                plot_2d_scores)\n",
    "from mglearn.plot_helpers import cm2 as cm, discrete_scatter\n",
    "\n",
    "def visualize_coefficients(coefficients, feature_names, n_top_features=25):\n",
    "    \"\"\"Visualize coefficients of a linear model.\n",
    "    Parameters\n",
    "    ----------\n",
    "    coefficients : nd-array, shape (n_features,)\n",
    "        Model coefficients.\n",
    "    feature_names : list or nd-array of strings, shape (n_features,)\n",
    "        Feature names for labeling the coefficients.\n",
    "    n_top_features : int, default=25\n",
    "        How many features to show. The function will show the largest (most\n",
    "        positive) and smallest (most negative)  n_top_features coefficients,\n",
    "        for a total of 2 * n_top_features coefficients.\n",
    "    \"\"\"\n",
    "    coefficients = coefficients.squeeze()\n",
    "    if coefficients.ndim > 1:\n",
    "        # this is not a row or column vector\n",
    "        raise ValueError(\"coeffients must be 1d array or column vector, got\"\n",
    "                         \" shape {}\".format(coefficients.shape))\n",
    "    coefficients = coefficients.ravel()\n",
    "\n",
    "    if len(coefficients) != len(feature_names):\n",
    "        raise ValueError(\"Number of coefficients {} doesn't match number of\"\n",
    "                         \"feature names {}.\".format(len(coefficients),\n",
    "                                                    len(feature_names)))\n",
    "    # get coefficients with large absolute values\n",
    "    coef = coefficients.ravel()\n",
    "    positive_coefficients = np.argsort(coef)[-n_top_features:]\n",
    "    negative_coefficients = np.argsort(coef)[:n_top_features]\n",
    "    interesting_coefficients = np.hstack([negative_coefficients,\n",
    "                                          positive_coefficients])\n",
    "    # plot them\n",
    "    plt.figure(figsize=(15, 5))\n",
    "    colors = [cm(1) if c < 0 else cm(0)\n",
    "              for c in coef[interesting_coefficients]]\n",
    "    plt.bar(np.arange(2 * n_top_features), coef[interesting_coefficients],\n",
    "            color=colors)\n",
    "    feature_names = np.array(feature_names)\n",
    "    plt.subplots_adjust(bottom=0.3)\n",
    "    plt.xticks(np.arange(0, 2 * n_top_features),\n",
    "               feature_names[interesting_coefficients], rotation=60,\n",
    "               ha=\"right\")\n",
    "    plt.ylabel(\"Coefficient magnitude\")\n",
    "    plt.xlabel(\"Feature\")"
   ]
  },
  {
   "cell_type": "code",
   "execution_count": 31,
   "id": "8092c271-1711-4774-a49b-a208b24a31e8",
   "metadata": {},
   "outputs": [
    {
     "data": {
      "image/png": "[encoded data removed]",
      "text/plain": [
       "<Figure size 1080x360 with 1 Axes>"
      ]
     },
     "metadata": {
      "needs_background": "light"
     },
     "output_type": "display_data"
    }
   ],
   "source": [
    "visualize_coefficients(coeffs, feature_names, n_top_features=5)\n",
    "plt.savefig(\"../../models/coeff.png\", bbox_inches = 'tight')"
   ]
  },
  {
   "cell_type": "code",
   "execution_count": 15,
   "id": "3b162d44-921d-447c-9b96-55584ece2cb8",
   "metadata": {},
   "outputs": [],
   "source": [
    "# export tables\n",
    "\n",
    "import dataframe_image as dfi\n",
    "\n",
    "dfi.export(train_results, \"../../models/train_results.png\")\n",
    "dfi.export(coeff_df_sorted, \"../../models/coeff_sorted.png\")"
   ]
  },
  {
   "cell_type": "code",
   "execution_count": 16,
   "id": "a3fcfe40-1204-4b35-aca7-a6a451037996",
   "metadata": {},
   "outputs": [
    {
     "data": {
      "text/html": [
       "<div>\n",
       "<style scoped>\n",
       "    .dataframe tbody tr th:only-of-type {\n",
       "        vertical-align: middle;\n",
       "    }\n",
       "\n",
       "    .dataframe tbody tr th {\n",
       "        vertical-align: top;\n",
       "    }\n",
       "\n",
       "    .dataframe thead th {\n",
       "        text-align: right;\n",
       "    }\n",
       "</style>\n",
       "<table border=\"1\" class=\"dataframe\">\n",
       "  <thead>\n",
       "    <tr style=\"text-align: right;\">\n",
       "      <th></th>\n",
       "      <th>Metrics</th>\n",
       "      <th>Test Result</th>\n",
       "    </tr>\n",
       "  </thead>\n",
       "  <tbody>\n",
       "    <tr>\n",
       "      <th>0</th>\n",
       "      <td>accuracy</td>\n",
       "      <td>0.843301</td>\n",
       "    </tr>\n",
       "    <tr>\n",
       "      <th>1</th>\n",
       "      <td>f1</td>\n",
       "      <td>0.903321</td>\n",
       "    </tr>\n",
       "    <tr>\n",
       "      <th>2</th>\n",
       "      <td>recall</td>\n",
       "      <td>0.954758</td>\n",
       "    </tr>\n",
       "    <tr>\n",
       "      <th>3</th>\n",
       "      <td>precision</td>\n",
       "      <td>0.857143</td>\n",
       "    </tr>\n",
       "    <tr>\n",
       "      <th>4</th>\n",
       "      <td>roc_auc</td>\n",
       "      <td>0.854098</td>\n",
       "    </tr>\n",
       "    <tr>\n",
       "      <th>5</th>\n",
       "      <td>average_precision</td>\n",
       "      <td>0.945271</td>\n",
       "    </tr>\n",
       "  </tbody>\n",
       "</table>\n",
       "</div>"
      ],
      "text/plain": [
       "             Metrics  Test Result\n",
       "0           accuracy     0.843301\n",
       "1                 f1     0.903321\n",
       "2             recall     0.954758\n",
       "3          precision     0.857143\n",
       "4            roc_auc     0.854098\n",
       "5  average_precision     0.945271"
      ]
     },
     "execution_count": 16,
     "metadata": {},
     "output_type": "execute_result"
    }
   ],
   "source": [
    "from sklearn.metrics import get_scorer\n",
    "from sklearn.metrics import make_scorer\n",
    "\n",
    "scoring_metrics = [\n",
    "    \"accuracy\",\n",
    "    \"f1\",\n",
    "    \"recall\",\n",
    "    \"precision\",\n",
    "    \"roc_auc\",\n",
    "    \"average_precision\",\n",
    "]\n",
    "rdf = pd.DataFrame(scoring_metrics, columns=[\"Metrics\"])\n",
    "\n",
    "r = []\n",
    "for m in scoring_metrics:\n",
    "    r.append(get_scorer(m)(pipe_best, X_test, y_test))\n",
    "rdf[\"Test Result\"] = r\n",
    "rdf.set_index(\"Metrics\")\n",
    "\n",
    "rdf"
   ]
  },
  {
   "cell_type": "code",
   "execution_count": null,
   "id": "ac8569cf-e49a-4059-a89a-a6b171ddb552",
   "metadata": {},
   "outputs": [],
   "source": []
  }
 ],
 "metadata": {
  "kernelspec": {
   "display_name": "Python [conda env:571]",
   "language": "python",
   "name": "conda-env-571-py"
  },
  "language_info": {
   "codemirror_mode": {
    "name": "ipython",
    "version": 3
   },
   "file_extension": ".py",
   "mimetype": "text/x-python",
   "name": "python",
   "nbconvert_exporter": "python",
   "pygments_lexer": "ipython3",
   "version": "3.9.7"
  }
 },
 "nbformat": 4,
 "nbformat_minor": 5
}
