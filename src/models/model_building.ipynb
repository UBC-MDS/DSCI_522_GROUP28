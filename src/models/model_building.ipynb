{
 "cells": [
  {
   "cell_type": "code",
   "execution_count": 40,
   "id": "e1420e73-45fc-427f-b0b8-fc015e3edaae",
   "metadata": {},
   "outputs": [],
   "source": [
    "import os\n",
    "import sys\n",
    "import docopt\n",
    "import IPython\n",
    "import ipywidgets as widgets\n",
    "import matplotlib.pyplot as plt\n",
    "import mglearn\n",
    "import numpy as np\n",
    "import pandas as pd\n",
    "\n",
    "%matplotlib inline\n",
    "pd.set_option(\"display.max_colwidth\", 200)"
   ]
  },
  {
   "cell_type": "code",
   "execution_count": 43,
   "id": "781508ab-ec8e-4fd5-903d-021cdf6473ac",
   "metadata": {},
   "outputs": [
    {
     "ename": "ModuleNotFoundError",
     "evalue": "No module named 'plotting_functions'",
     "output_type": "error",
     "traceback": [
      "\u001b[1;31m---------------------------------------------------------------------------\u001b[0m",
      "\u001b[1;31mModuleNotFoundError\u001b[0m                       Traceback (most recent call last)",
      "\u001b[1;32m~\\AppData\\Local\\Temp/ipykernel_17868/1357408678.py\u001b[0m in \u001b[0;36m<module>\u001b[1;34m\u001b[0m\n\u001b[0;32m      1\u001b[0m \u001b[1;32mfrom\u001b[0m \u001b[0mIPython\u001b[0m\u001b[1;33m.\u001b[0m\u001b[0mdisplay\u001b[0m \u001b[1;32mimport\u001b[0m \u001b[0mHTML\u001b[0m\u001b[1;33m,\u001b[0m \u001b[0mdisplay\u001b[0m\u001b[1;33m\u001b[0m\u001b[1;33m\u001b[0m\u001b[0m\n\u001b[0;32m      2\u001b[0m \u001b[1;32mfrom\u001b[0m \u001b[0mipywidgets\u001b[0m \u001b[1;32mimport\u001b[0m \u001b[0minteract\u001b[0m\u001b[1;33m,\u001b[0m \u001b[0minteractive\u001b[0m\u001b[1;33m\u001b[0m\u001b[1;33m\u001b[0m\u001b[0m\n\u001b[1;32m----> 3\u001b[1;33m \u001b[1;32mfrom\u001b[0m \u001b[0mplotting_functions\u001b[0m \u001b[1;32mimport\u001b[0m \u001b[1;33m*\u001b[0m\u001b[1;33m\u001b[0m\u001b[1;33m\u001b[0m\u001b[0m\n\u001b[0m\u001b[0;32m      4\u001b[0m \u001b[1;32mfrom\u001b[0m \u001b[0msklearn\u001b[0m\u001b[1;33m.\u001b[0m\u001b[0mmodel_selection\u001b[0m \u001b[1;32mimport\u001b[0m \u001b[0mcross_val_score\u001b[0m\u001b[1;33m,\u001b[0m \u001b[0mcross_validate\u001b[0m\u001b[1;33m,\u001b[0m \u001b[0mtrain_test_split\u001b[0m\u001b[1;33m\u001b[0m\u001b[1;33m\u001b[0m\u001b[0m\n\u001b[0;32m      5\u001b[0m \u001b[1;32mfrom\u001b[0m \u001b[0msklearn\u001b[0m\u001b[1;33m.\u001b[0m\u001b[0mpipeline\u001b[0m \u001b[1;32mimport\u001b[0m \u001b[0mPipeline\u001b[0m\u001b[1;33m,\u001b[0m \u001b[0mmake_pipeline\u001b[0m\u001b[1;33m\u001b[0m\u001b[1;33m\u001b[0m\u001b[0m\n",
      "\u001b[1;31mModuleNotFoundError\u001b[0m: No module named 'plotting_functions'"
     ]
    }
   ],
   "source": [
    "from IPython.display import HTML, display\n",
    "from ipywidgets import interact, interactive\n",
    "# from plotting_functions import *\n",
    "from sklearn.model_selection import cross_val_score, cross_validate, train_test_split\n",
    "from sklearn.pipeline import Pipeline, make_pipeline\n",
    "from sklearn.preprocessing import OneHotEncoder, StandardScaler\n",
    "from sklearn.compose import (\n",
    "    ColumnTransformer,\n",
    "    make_column_transformer\n",
    ")\n",
    "from sklearn.model_selection import (\n",
    "    GridSearchCV,\n",
    "    RandomizedSearchCV,\n",
    "    cross_val_score,\n",
    "    cross_validate,\n",
    "    train_test_split,\n",
    ")\n",
    "from sklearn.linear_model import LogisticRegression\n",
    "# from utils import *"
   ]
  },
  {
   "cell_type": "code",
   "execution_count": 69,
   "id": "7f0d81a7-14bc-41c3-b94c-4f25e8a4b81a",
   "metadata": {},
   "outputs": [],
   "source": [
    "import pickle"
   ]
  },
  {
   "cell_type": "code",
   "execution_count": 16,
   "id": "78169ef6-7192-4861-8358-da1f16105334",
   "metadata": {},
   "outputs": [],
   "source": [
    "df = pd.read_csv(\n",
    "    \"../../data/raw/abalone.data\",\n",
    "    names=[\n",
    "        \"Sex\",\n",
    "        \"Length\",\n",
    "        \"Diameter\",\n",
    "        \"Height\",\n",
    "        \"Whole weight\",\n",
    "        \"Shucked weight\",\n",
    "        \"Viscera weight\",\n",
    "        \"Shell weight\",\n",
    "        \"Rings\",\n",
    "    ],\n",
    "    header=0,\n",
    ")\n",
    "\n",
    "# Add a classification target columns. If rings > 11, then classified as old\n",
    "df[\"Is old\"] = np.where(df[\"Rings\"] > 11, \"old\", \"young\")\n",
    "df.head()\n",
    "train_df, test_df = train_test_split(df, test_size=0.2, random_state=123)\n",
    "X_train = train_df.drop(columns=['Is old'])\n",
    "X_test = test_df.drop(columns=['Is old'])\n",
    "y_train = train_df['Is old']\n",
    "y_test = test_df['Is old']"
   ]
  },
  {
   "cell_type": "code",
   "execution_count": 17,
   "id": "f2a561fe-89bb-4ec7-bf6c-4798f828fbb1",
   "metadata": {},
   "outputs": [],
   "source": [
    "# create column transformer for analysis pipeline\n",
    "\n",
    "categorical_feature = ['Sex']\n",
    "numerical_features = ['Length', 'Diameter', 'Height', 'Whole weight', \n",
    "'Shucked weight', 'Viscera weight', 'Shell weight']\n",
    "target = 'Is old'\n",
    "drop_feature = ['Rings']\n",
    "\n",
    "preprocessor = make_column_transformer(\n",
    "    (StandardScaler(), numerical_features),\n",
    "    (OneHotEncoder(handle_unknown=\"ignore\", sparse=False), \n",
    "     categorical_feature),\n",
    "    (\"drop\", drop_feature),\n",
    ")"
   ]
  },
  {
   "cell_type": "code",
   "execution_count": 114,
   "id": "2793b850-f09a-4420-a72c-8242201827cc",
   "metadata": {},
   "outputs": [
    {
     "name": "stderr",
     "output_type": "stream",
     "text": [
      "C:\\Users\\Maoli\\miniconda3\\envs\\571\\lib\\site-packages\\sklearn\\model_selection\\_search.py:292: UserWarning: The total space of parameters 9 is smaller than n_iter=10. Running 9 iterations. For exhaustive searches, use GridSearchCV.\n",
      "  warnings.warn(\n"
     ]
    },
    {
     "data": {
      "text/plain": [
       "RandomizedSearchCV(cv=5,\n",
       "                   estimator=Pipeline(steps=[('columntransformer',\n",
       "                                              ColumnTransformer(transformers=[('standardscaler',\n",
       "                                                                               StandardScaler(),\n",
       "                                                                               ['Length',\n",
       "                                                                                'Diameter',\n",
       "                                                                                'Height',\n",
       "                                                                                'Whole '\n",
       "                                                                                'weight',\n",
       "                                                                                'Shucked '\n",
       "                                                                                'weight',\n",
       "                                                                                'Viscera '\n",
       "                                                                                'weight',\n",
       "                                                                                'Shell '\n",
       "                                                                                'weight']),\n",
       "                                                                              ('onehotencoder',\n",
       "                                                                               OneHotEncoder(handle_unknown='ignore',\n",
       "                                                                                             sparse=False),\n",
       "                                                                               ['Sex']),\n",
       "                                                                              ('drop',\n",
       "                                                                               'drop',\n",
       "                                                                               ['Rings'])])),\n",
       "                                             ('logisticregression',\n",
       "                                              LogisticRegression(max_iter=2000))]),\n",
       "                   n_jobs=-1,\n",
       "                   param_distributions={'logisticregression__C': array([1.e-03, 1.e-02, 1.e-01, 1.e+00, 1.e+01, 1.e+02, 1.e+03, 1.e+04,\n",
       "       1.e+05])},\n",
       "                   random_state=123)"
      ]
     },
     "execution_count": 114,
     "metadata": {},
     "output_type": "execute_result"
    }
   ],
   "source": [
    "# fit the model by using random search CV\n",
    "\n",
    "lr = LogisticRegression(max_iter=2000)\n",
    "pipe = make_pipeline(preprocessor, lr)\n",
    "param_grid = {\"logisticregression__C\": 10.0 ** np.arange(-3, 6)}\n",
    "\n",
    "random_search = RandomizedSearchCV(pipe,\n",
    "                                   param_distributions = param_grid,\n",
    "                                   n_jobs = -1,\n",
    "                                   n_iter = 10,\n",
    "                                   cv = 5,\n",
    "                                   random_state = 123)\n",
    "random_search.fit(pd.DataFrame(X_train), y_train)"
   ]
  },
  {
   "cell_type": "code",
   "execution_count": 115,
   "id": "d7da14a7-3425-4056-8934-401596289e49",
   "metadata": {},
   "outputs": [
    {
     "data": {
      "text/html": [
       "<div>\n",
       "<style scoped>\n",
       "    .dataframe tbody tr th:only-of-type {\n",
       "        vertical-align: middle;\n",
       "    }\n",
       "\n",
       "    .dataframe tbody tr th {\n",
       "        vertical-align: top;\n",
       "    }\n",
       "\n",
       "    .dataframe thead th {\n",
       "        text-align: right;\n",
       "    }\n",
       "</style>\n",
       "<table border=\"1\" class=\"dataframe\">\n",
       "  <thead>\n",
       "    <tr style=\"text-align: right;\">\n",
       "      <th></th>\n",
       "      <th>mean_test_score</th>\n",
       "      <th>param_logisticregression__C</th>\n",
       "      <th>mean_fit_time</th>\n",
       "    </tr>\n",
       "    <tr>\n",
       "      <th>rank_test_score</th>\n",
       "      <th></th>\n",
       "      <th></th>\n",
       "      <th></th>\n",
       "    </tr>\n",
       "  </thead>\n",
       "  <tbody>\n",
       "    <tr>\n",
       "      <th>1</th>\n",
       "      <td>0.826403</td>\n",
       "      <td>100.0</td>\n",
       "      <td>0.041321</td>\n",
       "    </tr>\n",
       "    <tr>\n",
       "      <th>1</th>\n",
       "      <td>0.826403</td>\n",
       "      <td>1000.0</td>\n",
       "      <td>0.037464</td>\n",
       "    </tr>\n",
       "    <tr>\n",
       "      <th>1</th>\n",
       "      <td>0.826403</td>\n",
       "      <td>10000.0</td>\n",
       "      <td>0.036820</td>\n",
       "    </tr>\n",
       "    <tr>\n",
       "      <th>1</th>\n",
       "      <td>0.826403</td>\n",
       "      <td>100000.0</td>\n",
       "      <td>0.030387</td>\n",
       "    </tr>\n",
       "    <tr>\n",
       "      <th>5</th>\n",
       "      <td>0.826104</td>\n",
       "      <td>10.0</td>\n",
       "      <td>0.045194</td>\n",
       "    </tr>\n",
       "    <tr>\n",
       "      <th>6</th>\n",
       "      <td>0.822811</td>\n",
       "      <td>1.0</td>\n",
       "      <td>0.040864</td>\n",
       "    </tr>\n",
       "    <tr>\n",
       "      <th>7</th>\n",
       "      <td>0.820115</td>\n",
       "      <td>0.1</td>\n",
       "      <td>0.033799</td>\n",
       "    </tr>\n",
       "    <tr>\n",
       "      <th>8</th>\n",
       "      <td>0.798865</td>\n",
       "      <td>0.01</td>\n",
       "      <td>0.028923</td>\n",
       "    </tr>\n",
       "    <tr>\n",
       "      <th>9</th>\n",
       "      <td>0.775518</td>\n",
       "      <td>0.001</td>\n",
       "      <td>0.026820</td>\n",
       "    </tr>\n",
       "  </tbody>\n",
       "</table>\n",
       "</div>"
      ],
      "text/plain": [
       "                 mean_test_score param_logisticregression__C  mean_fit_time\n",
       "rank_test_score                                                            \n",
       "1                       0.826403                       100.0       0.041321\n",
       "1                       0.826403                      1000.0       0.037464\n",
       "1                       0.826403                     10000.0       0.036820\n",
       "1                       0.826403                    100000.0       0.030387\n",
       "5                       0.826104                        10.0       0.045194\n",
       "6                       0.822811                         1.0       0.040864\n",
       "7                       0.820115                         0.1       0.033799\n",
       "8                       0.798865                        0.01       0.028923\n",
       "9                       0.775518                       0.001       0.026820"
      ]
     },
     "execution_count": 115,
     "metadata": {},
     "output_type": "execute_result"
    }
   ],
   "source": [
    "# view the training results in a data frame\n",
    "\n",
    "train_results = pd.DataFrame(random_search.cv_results_)[\n",
    "    [   \"mean_test_score\",\n",
    "        \"param_logisticregression__C\",\n",
    "        \"mean_fit_time\",\n",
    "        \"rank_test_score\",\n",
    "    ]\n",
    "].set_index(\"rank_test_score\").sort_index()\n",
    "train_results"
   ]
  },
  {
   "cell_type": "code",
   "execution_count": 116,
   "id": "932476fc-12d7-472c-b91b-0160ae99a4f1",
   "metadata": {},
   "outputs": [
    {
     "data": {
      "image/png": "[encoded data removed]",
      "text/plain": [
       "<Figure size 432x288 with 1 Axes>"
      ]
     },
     "metadata": {
      "needs_background": "light"
     },
     "output_type": "display_data"
    }
   ],
   "source": [
    "# train_results.plot(kind=\"line\", y=\"mean_test_score\")\n",
    "from matplotlib import pyplot\n",
    "train_results.plot(x = \"param_logisticregression__C\", y = \"mean_test_score\")\n",
    "\n",
    "pyplot.xscale(\"log\")\n",
    "plt.savefig(\"../../models/cv_result.png\")"
   ]
  },
  {
   "cell_type": "code",
   "execution_count": 30,
   "id": "d0801f74-8a26-4e51-9f8f-d06862a88b27",
   "metadata": {},
   "outputs": [
    {
     "data": {
      "text/plain": [
       "0.8421052631578947"
      ]
     },
     "execution_count": 30,
     "metadata": {},
     "output_type": "execute_result"
    }
   ],
   "source": [
    "# pick the final model and predict test data\n",
    "\n",
    "best_c = train_results.iloc[1, 0]\n",
    "\n",
    "pipe_best = make_pipeline(preprocessor, LogisticRegression(C = best_c, max_iter=2000))\n",
    "pipe_best.fit(X_train, y_train)\n",
    "\n",
    "pipe_best.score(X_test, y_test)"
   ]
  },
  {
   "cell_type": "code",
   "execution_count": 70,
   "id": "4bb8be65-b488-4487-986d-5a0b10c3b8f6",
   "metadata": {},
   "outputs": [
    {
     "data": {
      "text/plain": [
       "Pipeline(steps=[('columntransformer',\n",
       "                 ColumnTransformer(transformers=[('standardscaler',\n",
       "                                                  StandardScaler(),\n",
       "                                                  ['Length', 'Diameter',\n",
       "                                                   'Height', 'Whole weight',\n",
       "                                                   'Shucked weight',\n",
       "                                                   'Viscera weight',\n",
       "                                                   'Shell weight']),\n",
       "                                                 ('onehotencoder',\n",
       "                                                  OneHotEncoder(handle_unknown='ignore',\n",
       "                                                                sparse=False),\n",
       "                                                  ['Sex']),\n",
       "                                                 ('drop', 'drop', ['Rings'])])),\n",
       "                ('logisticregression',\n",
       "                 LogisticRegression(C=100.0, max_iter=2000))])"
      ]
     },
     "execution_count": 70,
     "metadata": {},
     "output_type": "execute_result"
    }
   ],
   "source": [
    "random_search.best_estimator_"
   ]
  },
  {
   "cell_type": "code",
   "execution_count": 59,
   "id": "fbf8316b-ef03-45cb-bcd9-ba4237cd7aaa",
   "metadata": {},
   "outputs": [
    {
     "data": {
      "text/html": [
       "<div>\n",
       "<style scoped>\n",
       "    .dataframe tbody tr th:only-of-type {\n",
       "        vertical-align: middle;\n",
       "    }\n",
       "\n",
       "    .dataframe tbody tr th {\n",
       "        vertical-align: top;\n",
       "    }\n",
       "\n",
       "    .dataframe thead th {\n",
       "        text-align: right;\n",
       "    }\n",
       "</style>\n",
       "<table border=\"1\" class=\"dataframe\">\n",
       "  <thead>\n",
       "    <tr style=\"text-align: right;\">\n",
       "      <th></th>\n",
       "      <th>Coefficient</th>\n",
       "    </tr>\n",
       "  </thead>\n",
       "  <tbody>\n",
       "    <tr>\n",
       "      <th>standardscaler__Shucked weight</th>\n",
       "      <td>4.142553</td>\n",
       "    </tr>\n",
       "    <tr>\n",
       "      <th>onehotencoder__Sex_I</th>\n",
       "      <td>0.983024</td>\n",
       "    </tr>\n",
       "    <tr>\n",
       "      <th>standardscaler__Viscera weight</th>\n",
       "      <td>0.818804</td>\n",
       "    </tr>\n",
       "    <tr>\n",
       "      <th>standardscaler__Length</th>\n",
       "      <td>0.537147</td>\n",
       "    </tr>\n",
       "    <tr>\n",
       "      <th>onehotencoder__Sex_F</th>\n",
       "      <td>0.129540</td>\n",
       "    </tr>\n",
       "    <tr>\n",
       "      <th>onehotencoder__Sex_M</th>\n",
       "      <td>0.121077</td>\n",
       "    </tr>\n",
       "    <tr>\n",
       "      <th>standardscaler__Height</th>\n",
       "      <td>-0.248307</td>\n",
       "    </tr>\n",
       "    <tr>\n",
       "      <th>standardscaler__Diameter</th>\n",
       "      <td>-0.538840</td>\n",
       "    </tr>\n",
       "    <tr>\n",
       "      <th>standardscaler__Shell weight</th>\n",
       "      <td>-1.070738</td>\n",
       "    </tr>\n",
       "    <tr>\n",
       "      <th>standardscaler__Whole weight</th>\n",
       "      <td>-4.306860</td>\n",
       "    </tr>\n",
       "  </tbody>\n",
       "</table>\n",
       "</div>"
      ],
      "text/plain": [
       "                                Coefficient\n",
       "standardscaler__Shucked weight     4.142553\n",
       "onehotencoder__Sex_I               0.983024\n",
       "standardscaler__Viscera weight     0.818804\n",
       "standardscaler__Length             0.537147\n",
       "onehotencoder__Sex_F               0.129540\n",
       "onehotencoder__Sex_M               0.121077\n",
       "standardscaler__Height            -0.248307\n",
       "standardscaler__Diameter          -0.538840\n",
       "standardscaler__Shell weight      -1.070738\n",
       "standardscaler__Whole weight      -4.306860"
      ]
     },
     "execution_count": 59,
     "metadata": {},
     "output_type": "execute_result"
    }
   ],
   "source": [
    "feature_names = np.array(pipe_best[:-1].get_feature_names_out())\n",
    "coeffs = pipe_best.named_steps[\"logisticregression\"].coef_.flatten()\n",
    "coeff_df = pd.DataFrame(coeffs, index=feature_names, columns=[\"Coefficient\"])\n",
    "coeff_df_sorted = coeff_df.sort_values(by=\"Coefficient\", ascending=False)\n",
    "coeff_df_sorted"
   ]
  },
  {
   "cell_type": "code",
   "execution_count": null,
   "id": "ed665628-c2cb-4ab7-a560-c73206ba6a29",
   "metadata": {},
   "outputs": [],
   "source": []
  },
  {
   "cell_type": "code",
   "execution_count": 34,
   "id": "563a6c5f-f065-4eb3-a80d-3a880cd6968a",
   "metadata": {},
   "outputs": [
    {
     "data": {
      "text/plain": [
       "array(['old', 'young'], dtype=object)"
      ]
     },
     "execution_count": 34,
     "metadata": {},
     "output_type": "execute_result"
    }
   ],
   "source": [
    "pipe_best.classes_"
   ]
  },
  {
   "cell_type": "code",
   "execution_count": 68,
   "id": "8092c271-1711-4774-a49b-a208b24a31e8",
   "metadata": {},
   "outputs": [
    {
     "data": {
      "image/png": "[encoded data removed]",
      "text/plain": [
       "<Figure size 1080x360 with 1 Axes>"
      ]
     },
     "metadata": {
      "needs_background": "light"
     },
     "output_type": "display_data"
    }
   ],
   "source": [
    "mglearn.tools.visualize_coefficients(coeffs, feature_names, n_top_features=5)\n",
    "plt.savefig(\"../../models/coeff.png\")"
   ]
  },
  {
   "cell_type": "code",
   "execution_count": null,
   "id": "3b162d44-921d-447c-9b96-55584ece2cb8",
   "metadata": {},
   "outputs": [],
   "source": [
    "# export tables\n",
    "\n",
    "import dataframe_image as dfi\n",
    "dfi.export(train_results,\"../../models/train_results.png\")\n",
    "dfi.export(coeff_df_sorted,\"../../models/coeff_sorted.png\")"
   ]
  },
  {
   "cell_type": "code",
   "execution_count": null,
   "id": "a3fcfe40-1204-4b35-aca7-a6a451037996",
   "metadata": {},
   "outputs": [],
   "source": []
  }
 ],
 "metadata": {
  "kernelspec": {
   "display_name": "Python [conda env:571]",
   "language": "python",
   "name": "conda-env-571-py"
  },
  "language_info": {
   "codemirror_mode": {
    "name": "ipython",
    "version": 3
   },
   "file_extension": ".py",
   "mimetype": "text/x-python",
   "name": "python",
   "nbconvert_exporter": "python",
   "pygments_lexer": "ipython3",
   "version": "3.9.7"
  }
 },
 "nbformat": 4,
 "nbformat_minor": 5
}
