{
 "cells": [
  {
   "cell_type": "markdown",
   "metadata": {},
   "source": [
    "# Abalone Age Classification Project Report\n",
    "\n",
    "This report is for the data analysis project for DSCI 522 (Data Science workflows); a course in the Master of Data Science program at the University of British Columbia. Content includes key exploratory data analysis, statistical summaries and figures."
   ]
  },
  {
   "cell_type": "markdown",
   "metadata": {},
   "source": [
    "## Introduction\n",
    "\n",
    "Abalones are endangered marine snails that are found in the cold coastal water around the world. The price of an abalone is positively associated with its age. However, determining how old an abalone is a very complex process. Having a machine learning model that classifies the age of abalones will efficiently accelerate this manual process, and benefit researches on abalones and add value to the domain.\n",
    "\n",
    "In this project we are classifying abalone snails into \"young\" and \"old\" according to their number of rings based on input features such as abalone's gender, height with meat in shell, weight of the shell etc.\n"
   ]
  },
  {
   "cell_type": "markdown",
   "metadata": {},
   "source": [
    "## About the data set\n",
    "\n",
    "The Abalone data set that was used in this project was sourced from the UC\n",
    "    Irvine Machine Learning Repository published in 1995. It can be\n",
    "    found <a href=\"https://archive-beta.ics.uci.edu/ml/datasets/abalone\" >here</a>. Each row in\n",
    "    the data set represents the attributes and physical measurements of\n",
    "    abalones including number of rings, sex, length, diameter, height, weight,\n",
    "    etc. The number of rings were\n",
    "    counted manually using a microscope by the researchers. The age of an abalone is represented by its number of\n",
    "    rings plus 1.5 as number of years lived. \n",
    "The data set has already removed its missing values and the range of the continuous values have been scaled by dividing by 200 for use.\n",
    "\n",
    "    \n",
    "In this project we aim to answer this research question with a Logistic Regression classification model: \n",
    "\n",
    "- **Given the input features (sex, longest shell measurement, diameter perpendicular to length, height with meat in shell, whole weight, weight of meat, gut weight after bleeding, shell weight after being dried), is an abalone young (i.e. number of rings smaller than or equal to 11), or old (i.e. number of rings is larger than 11)?**\n",
    "    \n"
   ]
  },
  {
   "cell_type": "markdown",
   "metadata": {},
   "source": [
    "## Findings and results\n",
    "(space holder)"
   ]
  },
  {
   "cell_type": "markdown",
   "metadata": {},
   "source": [
    "## Interpretations\n",
    "(in context of the research question)(space holder)"
   ]
  },
  {
   "cell_type": "markdown",
   "metadata": {},
   "source": [
    "## Limitations and assumptions\n",
    "One limitation is that, we found that some of the input features are highly correlated. For example, the correlation between whole weight and length of abalone is 0.97, indicating that these two features are highly positively correlated. There will cause the multicollinearity issue. As a result, it can become difficult for the model to estimate the relationship between each independent variable and the dependent variable independently. \n",
    "\n",
    "Since our primary goal is to make classification on the abalone age (old or young), and we don’t need to understand the role of each independent variable such as weight and height, we did not take additional actions to reduce the multicollinearity problem in this project.\n",
    "\n",
    "Another limitation might be that the authors of this project lack the domain knowledge to feature engineer the model inputs. We considered that all features in the data set can be included in the classification model."
   ]
  },
  {
   "cell_type": "markdown",
   "metadata": {},
   "source": [
    "## Future directions \n",
    "Future analyses can be performed to improve this classification model. For example, we are interested in adding additional features such as: the geographical location where the abalones are collected, abalone species, color, number of predators and living environment etc. Consultation with domain experts must also be considered for appropriate and accurate analysis directions."
   ]
  },
  {
   "cell_type": "markdown",
   "metadata": {
    "tags": []
   },
   "source": [
    "## References \n",
    "- Under Southern Seas: The Ecology of Australia's Rocky Reefs. (1999). United States: UNSW Press.\n",
    "\n",
    "- Dua, D. and Graff, C. (2019). UCI Machine Learning Repository [http://archive.ics.uci.edu/ml]. Irvine, CA: University of California, School of Information and Computer Science.\n",
    "\n",
    "- Warwick J Nash, Tracy L Sellers, Simon R Talbot, Andrew J Cawthorn and Wes B Ford (1994) \"The Population Biology of Abalone (Haliotis species) in Tasmania. I. Blacklip Abalone (H. rubra) from the North Coast and Islands of Bass Strait\", Sea Fisheries Division, Technical Report No. 48 (ISSN 1034-3288)\n",
    "\n",
    "- Python Software Foundation. Python Language Reference, version 2.7. Available at http://www.python.org\n",
    "\n",
    "- RStudio Team (2020). RStudio: Integrated Development for R. RStudio, PBC, Boston, MA URL http://www.rstudio.com/."
   ]
  }
 ],
 "metadata": {
  "kernelspec": {
   "display_name": "Python 3",
   "language": "python",
   "name": "python3"
  },
  "language_info": {
   "codemirror_mode": {
    "name": "ipython",
    "version": 3
   },
   "file_extension": ".py",
   "mimetype": "text/x-python",
   "name": "python",
   "nbconvert_exporter": "python",
   "pygments_lexer": "ipython3",
   "version": "3.9.5"
  },
  "widgets": {
   "application/vnd.jupyter.widget-state+json": {
    "state": {},
    "version_major": 2,
    "version_minor": 0
   }
  }
 },
 "nbformat": 4,
 "nbformat_minor": 4
}
